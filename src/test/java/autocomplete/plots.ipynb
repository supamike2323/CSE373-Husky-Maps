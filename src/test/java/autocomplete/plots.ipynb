import matplotlib.pyplot as plt
import numpy as np

# Data for the four implementations, where each row is: [N, addAll time, allMatches time]
data_binary_search = np.array([
    [1000, 133899, 1789], [2000, 233068, 828], [3000, 391099, 231], [4000, 560418, 284], [5000, 725788, 215],
    [6000, 889442, 101], [7000, 1058493, 92], [8000, 1226243, 115], [9000, 1567830, 160], [10000, 1611627, 167],
    [11000, 1848135, 93], [12000, 1988080, 93], [13000, 2179456, 106], [14000, 2385544, 104],
    [15000, 2604100, 106], [16000, 2808192, 117], [17000, 3022407, 98], [18000, 3231912, 126],
    [19000, 3462585, 130], [20000, 3655060, 127]
])

data_sequential_search = np.array([
    [1000, 320, 21509], [2000, 764, 39243], [3000, 1143, 16342], [4000, 3700, 11535], [5000, 1750, 14271],
    [6000, 4261, 17435], [7000, 5239, 20163], [8000, 4941, 23781], [9000, 3301, 26158], [10000, 4507, 28072],
    [11000, 5145, 32250], [12000, 6653, 37155], [13000, 5019, 37963], [14000, 6247, 40168],
    [15000, 7680, 45192], [16000, 14927, 48236], [17000, 10975, 49139], [18000, 8055, 52659],
    [19000, 6653, 59335], [20000, 6717, 59001]
])

data_tst = np.array([
    [1000, 63255, 628], [2000, 154191, 137], [3000, 256216, 93], [4000, 358454, 106], [5000, 473623, 81],
    [6000, 589015, 121], [7000, 708248, 115], [8000, 835288, 105], [9000, 983956, 65], [10000, 1114075, 150],
    [11000, 1221323, 138], [12000, 1363391, 125], [13000, 1551418, 207], [14000, 1636499, 185],
    [15000, 1870905, 258], [16000, 1958812, 299], [17000, 2085765, 257], [18000, 2225412, 288],
    [19000, 2376604, 289], [20000, 2556433, 305]
])

data_treeset = np.array([
    [1000, 76579, 1529], [2000, 251262, 1128], [3000, 430351, 360], [4000, 526496, 263], [5000, 686786, 210],
    [6000, 991041, 242], [7000, 1046867, 242], [8000, 1428256, 231], [9000, 1459254, 111], [10000, 1678528, 893],
    [11000, 1807809, 361], [12000, 1997872, 186], [13000, 2212506, 206], [14000, 2438242, 234],
    [15000, 2983670, 305], [16000, 2933330, 276], [17000, 3118521, 202], [18000, 3327648, 203],
    [19000, 3521501, 191], [20000, 3765462, 199]
])

# Plot addAll times
plt.figure(figsize=(10, 6))
plt.plot(data_binary_search[:, 0], data_binary_search[:, 1], label="Binary Search", marker='o')
plt.plot(data_sequential_search[:, 0], data_sequential_search[:, 1], label="Sequential Search", marker='o')
plt.plot(data_tst[:, 0], data_tst[:, 1], label="TST", marker='o')
plt.plot(data_treeset[:, 0], data_treeset[:, 1], label="TreeSet", marker='o')

plt.title('Average Runtime of addAll Method for Different Autocomplete Implementations')
plt.xlabel('N (Number of Terms)')
plt.ylabel('Average Runtime (nanoseconds)')
plt.legend()
plt.grid(True)
plt.show()

# Plot allMatches times
plt.figure(figsize=(10, 6))
plt.plot(data_binary_search[:, 0], data_binary_search[:, 2], label="Binary Search", marker='o')
plt.plot(data_sequential_search[:, 0], data_sequential_search[:, 2], label="Sequential Search", marker='o')
plt.plot(data_tst[:, 0], data_tst[:, 2], label="TST", marker='o')
plt.plot(data_treeset[:, 0], data_treeset[:, 2], label="TreeSet", marker='o')

plt.title('Average Runtime of allMatches Method for Different Autocomplete Implementations')
plt.xlabel('N (Number of Terms)')
plt.ylabel('Average Runtime (nanoseconds)')
plt.legend()
plt.grid(True)
plt.show()
